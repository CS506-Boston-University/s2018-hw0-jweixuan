{
 "cells": [
  {
   "cell_type": "markdown",
   "metadata": {},
   "source": [
    "# CS506 - Spring 2018 - Homework 0\n",
    "# Introducing Python"
   ]
  },
  {
   "cell_type": "code",
   "execution_count": null,
   "metadata": {
    "collapsed": false
   },
   "outputs": [],
   "source": [
    "\"\"\"\n",
    "    CS506 Spring 2018 - Homework 0\n",
    "    Introducing Python\n",
    "    author: Nikolakaki Sofia\n",
    "    ------------------------------------------\n",
    "\"\"\""
   ]
  },
  {
   "cell_type": "code",
   "execution_count": null,
   "metadata": {
    "collapsed": false
   },
   "outputs": [],
   "source": [
    "\"\"\"\n",
    "Import python packages here.\n",
    "\"\"\"\n"
   ]
  },
  {
   "cell_type": "markdown",
   "metadata": {},
   "source": [
    "a) Convert the .csv file 'data.csv' into a list of lists, such that each row of the file is a list. ** (2 pts) **  \n",
    "\n",
    "The function import_data should receive as input the name of a .csv file and output the requested list of lists. For the purpose of this exercise assume that each row in the .csv file contains a list of float numbers. Each row of the csv file should be converted into a list in python. That is, if a row has 4 numbers, you need to create a list of length 4 containing these numbers. At the end you need to have a list containing all these lists, i.e. a list that contains all the values of the .csv file. Your output should have a format similar to the following:  [[1343, 8474], [2550, 4954, 4494, 7637],[3467,5671,...] "
   ]
  },
  {
   "cell_type": "code",
   "execution_count": null,
   "metadata": {
    "collapsed": false
   },
   "outputs": [],
   "source": [
    "\"\"\"\n",
    "The function import_data should receive as input the name of a .csv file and output a list of lists.\n",
    "\n",
    "For the purpose of this exercise assume that each row in the .csv file contains a list of float numbers. \n",
    "Each row of the csv file should be converted into a list in python. That is, if a row has 4 numbers, you need to create\n",
    "a list of length 4 containing these number.\n",
    "At the end you need to have a list containing all these lists, i.e. a list that contains all the values of the .csv \n",
    "file.\n",
    "Your output should be similar to the following: \n",
    "[[1343.6424, 8474.3373], [7637.7461, 2550.6902, 4954.3508, 4494.9106],.....]\n",
    "\"\"\"\n",
    "\n",
    "def import_data(filename):\n",
    "    \n",
    "    return\n",
    "\n",
    "filename = 'data.csv'\n",
    "data = import_data(filename)"
   ]
  },
  {
   "cell_type": "markdown",
   "metadata": {},
   "source": [
    "b) Code the algorithms i) **insertion sort**, ii) **merge sort**. ** (4 pts) **\n",
    "\n",
    "In order to code merge sort you need to use recursion otherwise you will not receive any points.\n",
    "In case you use any code available online you need to provide a reference to the source. "
   ]
  },
  {
   "cell_type": "code",
   "execution_count": null,
   "metadata": {
    "collapsed": false
   },
   "outputs": [],
   "source": [
    "\"\"\"\n",
    "The function insertion_sort should receive as input a list and output the same list, only sorted in ascending order.\n",
    "Use the recommended input to test that your algorithm runs correctly. Feel free to provide your own tests.\n",
    "\"\"\"\n",
    "\n",
    "def insertion_sort(alist):\n",
    "    \n",
    "    return\n",
    "\n",
    "alist = [4453, 7215, 2287, 9452, 9014, 305, 254, 5414, 9391, 3812, 2165, 4221, 290, 2216, 4378, 4958]\n",
    "alist = insertion_sort(alist)\n",
    "print(alist)"
   ]
  },
  {
   "cell_type": "code",
   "execution_count": null,
   "metadata": {
    "collapsed": false
   },
   "outputs": [],
   "source": [
    "\"\"\"\n",
    "The function merge_sort should receive as input a list and output the same list, only sorted in ascending order.\n",
    "Use the recommended input to test that your algorithm runs correctly. Feel free to provide your own tests.\n",
    "\"\"\"\n",
    "\n",
    "def merge_sort(alist):\n",
    "    \n",
    "    return\n",
    "    \n",
    "alist = [4453, 7215, 2287, 9452, 9014, 305, 254, 5414, 9391, 3812, 2165, 4221, 290, 2216, 4378, 4958]\n",
    "merge_sort(alist)\n",
    "print(alist)"
   ]
  },
  {
   "cell_type": "markdown",
   "metadata": {},
   "source": [
    "Before moving to the next step run both algorithms for all inputs of the data.csv file, i.e. all lists in the list of lists and confirm that all the outputs are correct.\n",
    "\n",
    "c) Perform profiling using the python library timeit. **(2 pts) **\n",
    "\n",
    "You need to store for each sorting algorithm, the size of the input dataset and the time that the algorithm requires to do the sorting in seconds. More information on the timeit library can be found [here](https://docs.python.org/2/library/timeit.html)  "
   ]
  },
  {
   "cell_type": "code",
   "execution_count": null,
   "metadata": {
    "collapsed": false
   },
   "outputs": [],
   "source": []
  },
  {
   "cell_type": "markdown",
   "metadata": {},
   "source": [
    "d) Plot the performance of the algorithms for all inputs using matplotlib.pyplot. **(2 pts) **\n",
    "\n",
    "In order to do so you need to create one figure that shows the performance of both. The x-axis will be the input size, while the y-axis will be the time in seconds of the algorithms. Your figure needs to contain i) a title, ii) labels on the axes, iii) a legend.\n",
    "\n",
    "Note that you might need to use the '%matplotlib inline' command at the beginning in order for the plots to show."
   ]
  },
  {
   "cell_type": "code",
   "execution_count": null,
   "metadata": {
    "collapsed": false
   },
   "outputs": [],
   "source": []
  },
  {
   "cell_type": "markdown",
   "metadata": {},
   "source": [
    "Please report any interesting observations. Are the results what you would expect? ** (1 pt) **"
   ]
  },
  {
   "cell_type": "code",
   "execution_count": null,
   "metadata": {
    "collapsed": true
   },
   "outputs": [],
   "source": []
  }
 ],
 "metadata": {
  "kernelspec": {
   "display_name": "Python 2",
   "language": "python",
   "name": "python2"
  },
  "language_info": {
   "codemirror_mode": {
    "name": "ipython",
    "version": 2
   },
   "file_extension": ".py",
   "mimetype": "text/x-python",
   "name": "python",
   "nbconvert_exporter": "python",
   "pygments_lexer": "ipython2",
   "version": "2.7.13"
  }
 },
 "nbformat": 4,
 "nbformat_minor": 2
}
